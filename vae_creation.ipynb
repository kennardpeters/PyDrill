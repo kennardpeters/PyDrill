{
 "cells": [
  {
   "cell_type": "code",
   "execution_count": 25,
   "metadata": {},
   "outputs": [],
   "source": [
    "import os\n",
    "import shutil\n",
    "import glob\n",
    "import numpy as np \n",
    "import pandas as pd\n",
    "import pretty_midi\n",
    "import pypianoroll\n",
    "# import tables\n",
    "from music21 import converter, instrument, note, chord, stream\n",
    "import music21\n",
    "import librosa\n",
    "import librosa.display\n",
    "import matplotlib.pyplot as plt\n",
    "from keras.utils import np_utils\n",
    "import json\n",
    "import IPython.display\n",
    "from datetime import datetime\n",
    "import random\n",
    "\n",
    "import torch\n",
    "import torch.nn as nn\n",
    "from torch.nn import functional as F\n",
    "device = torch.device('cuda' if torch.cuda.is_available() else 'cpu')\n",
    "\n",
    "from tqdm.notebook import tqdm, trange  \n",
    "\n",
    "import random\n",
    "import itertools\n",
    "root_dir = r'C:\\Users\\ahdz3\\Desktop\\jazzmidis'\n",
    "data_dir = root_dir + '\\Jazz Midi'\n",
    "# music_dataset_lpd_dir = root_dir + '/Music Dataset/midis/lmd_matched'"
   ]
  },
  {
   "cell_type": "code",
   "execution_count": 26,
   "metadata": {},
   "outputs": [
    {
     "name": "stdout",
     "output_type": "stream",
     "text": [
      "C:\\Users\\ahdz3\\Desktop\\jazzmidis\n"
     ]
    }
   ],
   "source": [
    "print(root_dir)\n",
    "midi_info = pd.read_csv(root_dir + '\\Jazz-midi.csv')\n",
    "# midi_info.head()"
   ]
  },
  {
   "cell_type": "code",
   "execution_count": null,
   "metadata": {},
   "outputs": [],
   "source": [
    "# view which tracks are in our jazz midi files\n",
    "j = 0\n",
    "\n",
    "for msd_file_name in midi_info['Name']:\n",
    "\n",
    "\n",
    "  # create path to midi file\n",
    "  midi_path = os.path.join(data_dir, msd_file_name)\n",
    "  \n",
    "  # continue if file is corrupted\n",
    "  try:\n",
    "    multitrack = pypianoroll.read(midi_path)\n",
    "  except:\n",
    "    print(msd_file_name, ' is corrupted')\n",
    "    continue\n",
    "\n",
    "  multitrack.set_resolution(2).pad_to_same()\n",
    "\n",
    "  print(j, ': ', multitrack.tracks, '\\n\\n')\n",
    "  j += 1\n"
   ]
  },
  {
   "cell_type": "code",
   "execution_count": null,
   "metadata": {},
   "outputs": [],
   "source": [
    "combined_pianorolls = []\n",
    "i = 0\n",
    "\n",
    "# change root_dir to training set afterwards\n",
    "for msd_file_name in midi_info['Name']:\n",
    "\n",
    "   # create path to midi file\n",
    "  midi_path = os.path.join(data_dir, msd_file_name)\n",
    "  \n",
    "  # continue if file is corrupted\n",
    "  try:\n",
    "    multitrack = pypianoroll.read(midi_path)\n",
    "  except:\n",
    "    print(msd_file_name, ' is corrupted')\n",
    "    continue\n",
    "\n",
    "  multitrack.set_resolution(2).pad_to_same()\n",
    "\n",
    "  # Piano, Guitar, Bass, Strings, Drums\n",
    "  # Splitting into different parts\n",
    "\n",
    "  # RESOLVE: original code uses LPD-5 standardized pianorolls that have all 5 parts\n",
    "\n",
    "  parts = {'piano_part': None, 'guitar_part': None, 'bass_part': None, 'strings_part': None, 'drums_part': None}\n",
    "  song_length = None\n",
    "  empty_array = None\n",
    "  has_empty_parts = False\n",
    "  for track in multitrack.tracks:\n",
    "    if 'Drums' in track.name:\n",
    "      parts['drums_part'] = track.pianoroll\n",
    "    if 'Piano' in track.name:\n",
    "      parts['piano_part'] = track.pianoroll\n",
    "    if 'Guitar' in track.name:\n",
    "      parts['guitar_part'] = track.pianoroll\n",
    "    if 'Bass' in track.name:\n",
    "      parts['bass_part'] = track.pianoroll\n",
    "    if 'Strings' in track.name:\n",
    "      parts['strings_part'] = track.pianoroll\n",
    "    if track.pianoroll.shape[0] > 0:\n",
    "      empty_array = np.zeros_like(track.pianoroll)\n",
    "\n",
    "\n",
    "  for k,v in parts.items():\n",
    "    if (v is None) or (v.shape[0] == 0):\n",
    "      parts[k] = empty_array.copy()\n",
    "      has_empty_parts = True\n",
    "\n",
    "  # Stack all together - Piano, Guitar, Bass, Strings, Drums\n",
    "  combined_pianoroll = torch.tensor([parts['piano_part'], parts['guitar_part'], parts['bass_part'], parts['strings_part'], parts['drums_part']])\n",
    "\n",
    "  # These contain velocity information - the force with which the notes are hit - which can be standardized to 0/1 if we want (to compress)\n",
    "  if has_empty_parts == False:\n",
    "    combined_pianorolls.append(combined_pianoroll)\n",
    "    i+=1\n",
    "    print(i)\n",
    "\n",
    "  if i == 1000:\n",
    "    break"
   ]
  },
  {
   "cell_type": "code",
   "execution_count": null,
   "metadata": {},
   "outputs": [],
   "source": [
    "torch.save(combined_pianorolls, os.path.join(root_dir, 'jazz_combined_pianorolls', 'jazz_rolls_vae.pt'))\n",
    "pianoroll_lengths = torch.tensor(pianoroll_lengths)\n",
    "torch.save(pianoroll_lengths, os.path.join(root_dir, 'jazz_combined_pianorolls', 'jazz_rolls_vae_lengths.pt'))"
   ]
  }
 ],
 "metadata": {
  "kernelspec": {
   "display_name": "Python 3.9.7 ('base')",
   "language": "python",
   "name": "python3"
  },
  "language_info": {
   "codemirror_mode": {
    "name": "ipython",
    "version": 3
   },
   "file_extension": ".py",
   "mimetype": "text/x-python",
   "name": "python",
   "nbconvert_exporter": "python",
   "pygments_lexer": "ipython3",
   "version": "3.9.7"
  },
  "orig_nbformat": 4,
  "vscode": {
   "interpreter": {
    "hash": "36fa583b3bb411ebb19b66734ef7d445b5f1a80fe90875160557a8395d5876b2"
   }
  }
 },
 "nbformat": 4,
 "nbformat_minor": 2
}
